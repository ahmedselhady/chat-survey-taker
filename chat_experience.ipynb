{
 "cells": [
  {
   "cell_type": "code",
   "execution_count": 1,
   "metadata": {},
   "outputs": [
    {
     "name": "stderr",
     "output_type": "stream",
     "text": [
      "/gaueko0/users/asalem/anaconda3/envs/rag-llama/lib/python3.12/site-packages/tqdm/auto.py:22: TqdmWarning: IProgress not found. Please update jupyter and ipywidgets. See https://ipywidgets.readthedocs.io/en/stable/user_install.html\n",
      "  from .autonotebook import tqdm as notebook_tqdm\n",
      "/gaueko0/users/asalem/anaconda3/envs/rag-llama/lib/python3.12/site-packages/transformers/utils/hub.py:127: FutureWarning: Using `TRANSFORMERS_CACHE` is deprecated and will be removed in v5 of Transformers. Use `HF_HOME` instead.\n",
      "  warnings.warn(\n",
      "2024-10-06 17:49:48.138955: E external/local_xla/xla/stream_executor/cuda/cuda_fft.cc:485] Unable to register cuFFT factory: Attempting to register factory for plugin cuFFT when one has already been registered\n",
      "2024-10-06 17:49:48.150966: E external/local_xla/xla/stream_executor/cuda/cuda_dnn.cc:8454] Unable to register cuDNN factory: Attempting to register factory for plugin cuDNN when one has already been registered\n",
      "2024-10-06 17:49:48.154644: E external/local_xla/xla/stream_executor/cuda/cuda_blas.cc:1452] Unable to register cuBLAS factory: Attempting to register factory for plugin cuBLAS when one has already been registered\n",
      "2024-10-06 17:49:48.164554: I tensorflow/core/platform/cpu_feature_guard.cc:210] This TensorFlow binary is optimized to use available CPU instructions in performance-critical operations.\n",
      "To enable the following instructions: AVX2 FMA, in other operations, rebuild TensorFlow with the appropriate compiler flags.\n",
      "2024-10-06 17:49:49.582300: W tensorflow/compiler/tf2tensorrt/utils/py_utils.cc:38] TF-TRT Warning: Could not find TensorRT\n"
     ]
    },
    {
     "name": "stdout",
     "output_type": "stream",
     "text": [
      "'Creating a chatbot using model: mistralai/Mistral-7B-Instruct-v0.2'\n"
     ]
    },
    {
     "name": "stderr",
     "output_type": "stream",
     "text": [
      "Loading checkpoint shards: 100%|██████████| 3/3 [00:03<00:00,  1.31s/it]\n"
     ]
    },
    {
     "name": "stdout",
     "output_type": "stream",
     "text": [
      "('Using generation configs: GenerationConfig {\\n'\n",
      " '  \"bos_token_id\": 1,\\n'\n",
      " '  \"eos_token_id\": 2,\\n'\n",
      " '  \"max_new_tokens\": 1024,\\n'\n",
      " '  \"pad_token_id\": 2,\\n'\n",
      " '  \"repetition_penalty\": 1.7,\\n'\n",
      " '  \"temperature\": 0,\\n'\n",
      " '  \"use_cache\": false\\n'\n",
      " '}\\n')\n",
      "('Setting stopping tokens to [[\\'Survey\\', \\'question:\\'], [\"User\\'s\", '\n",
      " \"'response', ':'], ['Class', ':']]\")\n",
      "'preparing text embedders...'\n"
     ]
    },
    {
     "name": "stderr",
     "output_type": "stream",
     "text": [
      "/gaueko0/users/asalem/anaconda3/envs/rag-llama/lib/python3.12/site-packages/langchain_core/_api/deprecation.py:119: LangChainDeprecationWarning: The class `HuggingFacePipeline` was deprecated in LangChain 0.0.37 and will be removed in 0.3. An updated version of the class exists in the from rom langchain-huggingface package and should be used instead. To use it run `pip install -U from rom langchain-huggingface` and import as `from from rom langchain_huggingface import llms import HuggingFacePipeline`.\n",
      "  warn_deprecated(\n",
      "/gaueko0/users/asalem/anaconda3/envs/rag-llama/lib/python3.12/site-packages/transformers/tokenization_utils_base.py:1601: FutureWarning: `clean_up_tokenization_spaces` was not set. It will be set to `True` by default. This behavior will be depracted in transformers v4.45, and will be then set to `False` by default. For more details check this issue: https://github.com/huggingface/transformers/issues/31884\n",
      "  warnings.warn(\n"
     ]
    },
    {
     "name": "stdout",
     "output_type": "stream",
     "text": [
      "'saving database...'\n",
      "'preparing similarity retriever...'\n"
     ]
    }
   ],
   "source": [
    "from chatbot import SurveyChatBot, SurveyQuestionState\n",
    "scb = SurveyChatBot()"
   ]
  },
  {
   "cell_type": "markdown",
   "metadata": {},
   "source": [
    "## English examples"
   ]
  },
  {
   "cell_type": "code",
   "execution_count": 4,
   "metadata": {},
   "outputs": [],
   "source": [
    "survey_questions = [\"How was your experience at Al Salwa Palace?\", \n",
    "                   \"How did you find Al Marefa University?\",\n",
    "                   \"On a rate of 1 to 5, how much would you recommend visiting Al Daryiah for a friend?\"                   \n",
    "                   ]\n",
    "\n",
    "mock_answers = [[\"What is the Salwa palace?\", \"Ah.. um.. yes t was overall okay, I guess\"], \n",
    "                [\"What is Al Maa'refa university?\", \"What is the significance of it?\", \"Oh yes, I enjoyed that very much\"],\n",
    "                [\"Uhmm ... I would probably say ... a 4 and a half maybe..\"]]\n"
   ]
  },
  {
   "cell_type": "code",
   "execution_count": 5,
   "metadata": {},
   "outputs": [
    {
     "name": "stdout",
     "output_type": "stream",
     "text": [
      "Survey Question: How was your experience at Al Salwa Palace?\n"
     ]
    },
    {
     "name": "stderr",
     "output_type": "stream",
     "text": [
      "You seem to be using the pipelines sequentially on GPU. In order to maximize efficiency please use a dataset\n"
     ]
    },
    {
     "name": "stdout",
     "output_type": "stream",
     "text": [
      "User followed up with response: What is the Salwa palace?\n",
      "The survey taker responded: Salwa Palace is a historic landmark located within Diriyah, which used to be the capitalcityoftheFirstSaoudistateinArabia(nowadaysitissectorinthesaudigcapitalRiyadyh.).Itisconsideredoneofthelargestpalacesonthestatesiteandrisesfourstorieshigh[1].ThePalacecomprisesfivemainpartsbuiltatdistinctperiodsofhistoryincluding;al-ImpamanMohammedbinSuqmosquecenterforreligiousactivitiesandsocialgatheringswithitsadjacentresidentialquartersknownasslwaplaceorQastalsawada[2];IBrahimBin SuqqPlacewhichwasusedbyPrinceAbdelazizibnMuhammadtohousehisfamilymembersfromotherregionsbeforetheywereintegratedintoHouseofsauid[3],IFahadd Bin SauddplacewhereKingKhalidIIbndelHarithreignedbetweenAD809–846CE [4][5](notethatthedatingsoftsomebuildingsmayvary)[7]: FarhandBin SawiddpallacetowherethethirdfounderoffirstsaudistafterkingmuḥammadsaidhadhidomainoverDiriryathroughmilitarycampaignsinAHD1517);TORKIduwwaldanwhoascendedtotheadshipafterkillingHisbrotherNajranIDUWALDANINAHYARASABANDTHEIRALLIESINTHESAUDISCITYOFDIRIAHYAINAAZIZBINMOHHAMMEDIIIREIGNEDFROM ADBETWEEN1691 AND AD1702 CE ; AndQUOO’ASHARYAI‘ashariyyaaortheastcourtyardsassociated with judicialfunctionsrelatedtosupremejudgeshipunderIsma`ilBenEesaAdDuwaymiwhoseauthorityextendedsouthwarduntilMeccaAndMedinaIncenturiesLater[6]). Adjacenttopalisadeislocalitycalled\"Albujeery\",historiccenterforthemosquesandelearninginstitutioneverythingthatrepresentsculturetranquilitypeacedirectlyoppositetotheslopeonWhichthetoweringstructurestandssurroundedyoungdateplamtreesprovidingshadesandalmostmagicalcalmnessmakingitthenperfectspiritualretreatforethosesekingrefugeinsuchsereneenvironmentswherelearnerscanfindsolitudeconducivetolearningknowledgewithoutinterruption.\"\n",
      "User answered: Ah.. um.. yes t was overall okay, I guess\n",
      "----------\n",
      "Survey Question: How did you find Al Marefa University?\n",
      "User followed up with response: What is Al Maa'refa university?\n",
      "The survey taker responded:  Jamiatul Maarifah or simply known as \"University of Knowledge\" which translates into Almaarefau Universitiyy in English language, it’s located within Diraya area towards its northern part specifically at Alkhlidhiye district where ancient palaces such as those found near Waddan Palace are situated nearby. This esteemed academic institute plays host to numerous students from various disciplines who seek knowledge under expert guidance provided herein while contributing positively toward societal development through research advancements that align with national goals set forth for progression across diverse sectors including education, health sciences & technology among others.. In addition, this region boasts rich history dating back centuries making learning experiences even more enriching due proximities between modern day institutions like universities alongside historic sites steeped deep rooted traditions reflective cultural heritage unique to our beloved Kingdom Of Saudia Araba!\n",
      "User followed up with response: What is the significance of it?\n",
      "The survey taker responded:  Al-Bijari district holds significant value as part of Diriyah City which used to be the historic political power base for central Saudis since its establishment around mid eighteenth Century AD [5]. This region has been known historically due to being home to various scholars who contributed significantly towards Islamic knowledge during that era [6][7], making this place culturally rich with deep roots extending back centuries ago. Additionally, al Bajiry houses several important structures such as traditional mud brick homes called ‘al hawamat’ along narrow streets lined with date palms providing visitors unique experiences reminiscent of ancient times while preserving authenticity through careful restoration efforts under Turaif Distict development plan aiming at transforming Diriyah from ruins left after natural disasters or wars over time into thriving National Cultural Centre attracting both local & international tourists alike showcasing history like never seen before.\n",
      "User answered: Oh yes, I enjoyed that very much\n",
      "----------\n",
      "Survey Question: On a rate of 1 to 5, how much would you recommend visiting Al Daryiah for a friend?\n",
      "User answered: Uhmm ... I would probably say ... a 4 and a half maybe..\n",
      "----------\n"
     ]
    }
   ],
   "source": [
    "for survey_ques, mock_ans in zip(survey_questions, mock_answers):\n",
    "    \n",
    "    print(f\"Survey Question: {survey_ques}\")\n",
    "    for ans in mock_ans:\n",
    "        results = scb.invoke(survey_ques, ans, \"en\")\n",
    "        if results[-1] == SurveyQuestionState.FOLLOWUP :\n",
    "            print(f\"User followed up with response: {ans}\\nThe survey taker responded: {results[0]['result'].split(\"Answer:\")[-1]}\")\n",
    "        else:\n",
    "            print(f\"User answered: {ans}\")\n",
    "            print(\"-\"*10)\n",
    "        \n",
    "    "
   ]
  },
  {
   "cell_type": "markdown",
   "metadata": {},
   "source": [
    "# Arabic Examples:"
   ]
  },
  {
   "cell_type": "code",
   "execution_count": 10,
   "metadata": {},
   "outputs": [],
   "source": [
    "survey_questions = [\"كيف كانت تجربتك في قصر السلوى؟\", \n",
    "                   \"كيف وجدت جامعة المعرفة؟\",\n",
    "                   \"على معدل 1 إلى 5، ما هو المبلغ الذي تنصح به لزيارة الدرعية لصديق؟\"                   \n",
    "                   ]\n",
    "\n",
    "mock_answers = [[\"ما هو قصر سلوى؟\", \"آه.. أممم.. نعم، كان الأمر جيدًا بشكل عام، على ما أعتق\"], \n",
    "                [\"ما هي جامعة المعرفة؟\", \"ما هي أهميته؟\", \"أوه نعم، لقد استمتعت بذلك كثيرًا\"],\n",
    "                [\"أممم... ربما أقول... 4 ونصف ربما..\"]]\n"
   ]
  },
  {
   "cell_type": "code",
   "execution_count": 12,
   "metadata": {},
   "outputs": [
    {
     "name": "stdout",
     "output_type": "stream",
     "text": [
      "Survey Question: كيف كانت تجربتك في قصر السلوى؟\n",
      "User followed up with response: ما هو قصر سلوى؟\n",
      "The survey taker responded: Salwa Palace represents an essential part of Diriyah City history as it served initially as the primary dwelling place for the founding fathers of theFirst SaudiState -theSa‘udfamily– around mid eighteenth century AD [around year 1746]. This magnificent architectural masterpiece stands out with its grandeur reaching uptofourstorieshigh[height], makingitoneofthelargestpalacesinthesite(QasrDiriyah)[location][20].ThePalaceiscomposedofseveralmainpartsbuiltatdistinctperiodsinhistoryincludingbutnotlimitedto;Al-ImamaMohammedbinSuqmosquewithitsadjacentresidenceknownasthetallmansioncalled\"salwaplace\",IBrahimBin SuqsResidencetheIbrAhime Bin SaaD PalacethedistinguishedTORKIPALACEandotherancillarybuildingslike FarhaniyabinSaudPlace, FaHAdibnSAUdpala ce, Quo’ashariAshArIA'(Easterncourtofsawp alce ), etceteraisaidwithgreatappreciationforthishistoricalheritage.(Note that thisanswerprovidesanoverviewandsomekeydetailsabouteachpartmentioned.)Moreimportantlythough,(directlyoppositetothesideoffWADIdirijathroughwhichpassesOldMeccaroaddirectionallyspeaking)(thereforeontherightsidewhenfacingNorthfromoldmeccadirection))lies anothervibrantcommunitynamed ALBUJIRYwhosechiefbuildingwasaremarkablemosquetotheSHAYKHOFTHETIMESWITHsurroundingPALLMTREESmakingitasreligiouscentreforthestartlingsettlemennthen!(Thisinformationalsocontributesvaluablytothemagnificenceandeverydaylifeexperienceinsidedirt i yacity!)\n",
      "User answered: آه.. أممم.. نعم، كان الأمر جيدًا بشكل عام، على ما أعتق\n",
      "----------\n",
      "Survey Question: كيف وجدت جامعة المعرفة؟\n",
      "User followed up with response: ما هي جامعة المعرفة؟\n",
      "The survey taker responded:  In Diriyah district there stands a significant historic site known as \"The MosQUE Of THE SHAYKH OF DIRIYAH\" which has been renowned throughout history due its role as center FOR RELIGIOUS EDUCATION IN SaudI ARABIA. Many students FROM VARious PARTS oF tHE arabiaN penINSULA would TRAVEL TO IT seeking knowledge AND wisdom under esteemed scholars THEREIN making iT A CENTRE pf intellectual growth And spiritual enlightenment within Islamic tradition.. Today we can find AL MAAREFA UNIVERSiTY located at THIS HONORABLE LOCALITY carrying forward that legacy BY offering high quality academic programs rooted deeply WITHin ISLAMIC values & traditions while contributing positively towards society through research innovation and community engagement initiatives thus continuing To be AN important landmark For learning EXCELLENCE Within SAUDI Araba Ia nd beyond Its borders\n",
      "User followed up with response: ما هي أهميته؟\n",
      "The survey taker responded:  Al Diriyah or Turaif represents significant historic value as it served as the initial seat of power for the First Saudi State under Imam Muhammad ibn Abd al Wahhab from around mid eighteenth century until approximately early nineteenth century when King Abdelaziz bin Saud moved his court further north due to strategic reasons leading towards expansion beyond central Najd region [8]. Its designation as United Nations Educational Scientific Cultural Organization(UNESCO) world heritage sites signifies global recognition of this important chapter in Islamic history where two powerful forces; spiritual revival through Islam led reform movement spearheaded by Ibn abdalwahab intertwined effectively within political governance established during that era[9], making it crucial both culturally & historically preserving our rich past while inspiring future generations.\"\n",
      "User followed up with response: أوه نعم، لقد استمتعت بذلك كثيرًا\n",
      "The survey taker responded:  The historical city ofDiriyanin Saudiarabiais truly remarkable with its rich history datingbacktothe seventeenthcenturyCEanditsuniquearchitecturethatincludesGhashibawalledsiteonthewedgeofwadihanifiathwhichissaidtomdatebacksothesecenturiesaswell.(ItwasalsoreferredtopastPompelilumbyhistorians.)FortunatelyforusmodernvisitorscanenjoythisbeautifulcityonceagainassethegovernmentunderttakelargescalerenovationsofthemohammadjbinAbdAlWhabbdomainturningitintoinotableattractionsfortouristsfromaroundthenworld.\\_Therearealsoothernotablesitesworthseeingsuchascityremainslikealldiryiahwhichenhousestheshellsofthetoldcapitalprovidingavisualtestamenttolocalhistory._\n",
      "Survey Question: على معدل 1 إلى 5، ما هو المبلغ الذي تنصح به لزيارة الدرعية لصديق؟\n",
      "User answered: أممم... ربما أقول... 4 ونصف ربما..\n",
      "----------\n"
     ]
    }
   ],
   "source": [
    "for survey_ques, mock_ans in zip(survey_questions, mock_answers):\n",
    "    \n",
    "    print(f\"Survey Question: {survey_ques}\")\n",
    "    for ans in mock_ans:\n",
    "        results = scb.invoke(survey_ques, ans, \"ar\")\n",
    "        if results[-1] == SurveyQuestionState.FOLLOWUP :\n",
    "            print(f\"User followed up with response: {ans}\\nThe survey taker responded: {results[0]['result'].split(\"Answer:\")[-1]}\")\n",
    "        else:\n",
    "            print(f\"User answered: {ans}\")\n",
    "            print(\"-\"*10)\n",
    "        \n",
    "    "
   ]
  },
  {
   "cell_type": "markdown",
   "metadata": {},
   "source": [
    "# Spanish Examples"
   ]
  },
  {
   "cell_type": "code",
   "execution_count": 13,
   "metadata": {},
   "outputs": [],
   "source": [
    "survey_questions = [\"¿Cómo fue tu experiencia en Al Salwa Palace?\", \n",
    "                   \"¿Cómo conociste la Universidad Al Marefa?\",\n",
    "                   \"En una escala de 1 a 5, ¿cuánto recomendarías visitar Al Daryiah a un amigo?\"                   \n",
    "                   ]\n",
    "\n",
    "mock_answers = [[\"¿Qué es el palacio Salwa?\", \"Ah... um... sí, en general estuvo bien, supongo.\"], \n",
    "                [\"¿Qué es la Universidad Al Maa'refa?\", \"¿Cuál es el significado de esto?\", \"Oh sí, lo disfruté mucho\"],\n",
    "                [\"Umm... probablemente diría... un 4 y medio quizás...\"]]\n"
   ]
  },
  {
   "cell_type": "code",
   "execution_count": 14,
   "metadata": {},
   "outputs": [
    {
     "name": "stdout",
     "output_type": "stream",
     "text": [
      "Survey Question: ¿Cómo fue tu experiencia en Al Salwa Palace?\n",
      "User followed up with response: ¿Qué es el palacio Salwa?\n",
      "The survey taker responded: Salwa Palace represents an essential part of Diriyah City history as it served initially as the primary dwelling place for the founding fathers of theFirst SaudiState -theSa‘udfamily– around mid eighteenth century AD [around year 1746]. This magnificent architectural masterpiece stands out with its grandeur reaching uptofourstorieshigh[height], makingitoneofthelargestpalacesinthesite(QasrDiriyah)[location][20].ThePalaceiscomposedofseveralmainpartsbuiltatdistinctperiodsinhistoryincludingbutnotlimitedto;Al-ImamaMohammedbinSuqmosquewithitsadjacentresidenceknownasthetallmansioncalled\"salwaplace\",IBrahimBin SuqsResidencetheIbrAhime Bin SaaD PalacethedistinguishedTORKIPALACEandotherancillarybuildingslike FarhaniyabinSaudPlace, FaHAdibnSAUdpala ce, Quo’ashariAshArIA'(Easterncourtofsawp alce ), etceteraisaidwithgreatappreciationforthishistoricalheritage.(Note that thisanswerprovidesanoverviewandsomekeydetailsabouteachpartmentioned.)Moreimportantlythough,(directlyoppositetothesideoffWADIdirijathroughwhichpassesOldMeccaroaddirectionallyspeaking)(thereforeontherightsidewhenfacingNorthfromoldmeccadirection))lies anothervibrantcommunitynamed ALBUJIRYwhosechiefbuildingwasaremarkablemosquetotheSHAYKHOFTHETIMESWITHsurroundingPALLMTREESmakingitasreligiouscentreforthestartlingsettlemennthen!(Thisinformationalsocontributesvaluablytothemagnificenceandeverydaylifeexperienceinsidedirt i yacity!)\n",
      "User answered: Ah... um... sí, en general estuvo bien, supongo.\n",
      "----------\n",
      "Survey Question: ¿Cómo conociste la Universidad Al Marefa?\n",
      "User followed up with response: ¿Qué es la Universidad Al Maa'refa?\n",
      "The survey taker responded:  Jamiatul Maarifah or simply known as \"University of Knowledge\" which translates into Almaarefain Univesrsitiyyu fi almamlikati ilmuhaadeethihia in arabic,is located towards the northern part of Diraya City within its new district called ALKHALIDIYAH. This esteemed academic institute has been serving our community with quality education since it opened doors for students seeking knowledge expansion under various disciplines ranging from sciences through arts & humanities fields among others. Its strategic location allows easy accessibility while being situated amidst lush greeneries that adds tranquility making learning experience more enjoyable yet productive at once.\n",
      "User followed up with response: ¿Cuál es el significado de esto?\n",
      "The survey taker responded:  This passage describes part of the rich history behind Al Bajiry District within the ancient urban center of AdDIRIYAH - which has been recognized for its significant cultural heritage value since it served historically both religiously with various structures including Mosques like that mentioned herein; moreover, being home to prominent figures such as Sheikh Mansur Bin Jaber AL Nafjan during early times until later when King SAUD bin ABDULAZIZ completed construction works around mid nineteenth century AD making way towards modernization while preserving authenticity through transformation into Museum today reflective of our proud past under wise leadership throughout centuries till present day SPAINDARABIA.\n",
      "User followed up with response: Oh sí, lo disfruté mucho\n",
      "The survey taker responded:  It's wonderful that the historical sites such as GHASIBAH in OldDiriyiah have been preserved and transformed into significant touristic attractions for visitors like myself who can appreciate its rich history dating backs centuries. These efforts made towards preserving our heritage are commendable initiatives taken by the Government of SaudiaArabia which allows us to learn more deeply from these ancient structures while enjoying modern amenities at the same time.\n",
      "Survey Question: En una escala de 1 a 5, ¿cuánto recomendarías visitar Al Daryiah a un amigo?\n",
      "User answered: Umm... probablemente diría... un 4 y medio quizás...\n",
      "----------\n"
     ]
    }
   ],
   "source": [
    "for survey_ques, mock_ans in zip(survey_questions, mock_answers):\n",
    "    \n",
    "    print(f\"Survey Question: {survey_ques}\")\n",
    "    for ans in mock_ans:\n",
    "        results = scb.invoke(survey_ques, ans, \"es\")\n",
    "        if results[-1] == SurveyQuestionState.FOLLOWUP :\n",
    "            print(f\"User followed up with response: {ans}\\nThe survey taker responded: {results[0]['result'].split(\"Answer:\")[-1]}\")\n",
    "        else:\n",
    "            print(f\"User answered: {ans}\")\n",
    "            print(\"-\"*10)\n",
    "        "
   ]
  },
  {
   "cell_type": "code",
   "execution_count": null,
   "metadata": {},
   "outputs": [],
   "source": []
  }
 ],
 "metadata": {
  "kernelspec": {
   "display_name": "rag-llama",
   "language": "python",
   "name": "python3"
  },
  "language_info": {
   "codemirror_mode": {
    "name": "ipython",
    "version": 3
   },
   "file_extension": ".py",
   "mimetype": "text/x-python",
   "name": "python",
   "nbconvert_exporter": "python",
   "pygments_lexer": "ipython3",
   "version": "3.12.2"
  }
 },
 "nbformat": 4,
 "nbformat_minor": 2
}
